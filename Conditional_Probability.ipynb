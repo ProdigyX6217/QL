{
 "cells": [
  {
   "cell_type": "code",
   "execution_count": 1,
   "metadata": {},
   "outputs": [],
   "source": [
    "spam_histogram = {}\n",
    "ham_histogram = {}\n",
    "def add_entries(text, histo):\n",
    "    list_of_txt = text.split()\n",
    "    for v in list_of_txt:\n",
    "        if v not in histo:\n",
    "            histo[v] = 1\n",
    "        else:\n",
    "            histo[v] += 1\n",
    "\n",
    "spam_texts = ['Send us your password', 'review us', 'Send your password', 'Send us your account']\n",
    "ham_texts = ['Send us your review', 'review your password']\n",
    "\n",
    "for text in spam_texts:\n",
    "    add_entries(text, spam_histogram)\n",
    "\n",
    "for text in ham_texts:\n",
    "    add_entries(text, ham_histogram)"
   ]
  },
  {
   "cell_type": "code",
   "execution_count": 2,
   "metadata": {},
   "outputs": [
    {
     "data": {
      "text/plain": [
       "0.15384615384615385"
      ]
     },
     "execution_count": 2,
     "metadata": {},
     "output_type": "execute_result"
    }
   ],
   "source": [
    "# Given emails that are spams, what is the probability that password is presence in that email\n",
    "p_password_given_spam = spam_histogram['password'] / sum(spam_histogram.values())\n",
    "p_password_given_spam"
   ]
  },
  {
   "cell_type": "code",
   "execution_count": 3,
   "metadata": {},
   "outputs": [
    {
     "data": {
      "text/plain": [
       "0.14285714285714285"
      ]
     },
     "execution_count": 3,
     "metadata": {},
     "output_type": "execute_result"
    }
   ],
   "source": [
    "# Given emails that are hams, what is the probability that password is presence in that email\n",
    "p_password_given_ham = ham_histogram['password'] / sum(ham_histogram.values())\n",
    "p_password_given_ham"
   ]
  },
  {
   "cell_type": "code",
   "execution_count": 4,
   "metadata": {},
   "outputs": [
    {
     "data": {
      "text/plain": [
       "0.15018315018315018"
      ]
     },
     "execution_count": 4,
     "metadata": {},
     "output_type": "execute_result"
    }
   ],
   "source": [
    "# Given that the word password is presence in the email, what is the probability that the email is spam\n",
    "spam = 4/6\n",
    "ham = 2/6\n",
    "\n",
    "# The probabilty of password in emails regardless of ham or spam\n",
    "# Multiple the probability of getting a spam or ham email with their own probability of having password in their emails \n",
    "p_password = (p_password_given_spam * spam) + (p_password_given_ham * ham)\n",
    "# The combine probability of password appearing in either email\n",
    "p_password"
   ]
  },
  {
   "cell_type": "code",
   "execution_count": 5,
   "metadata": {},
   "outputs": [
    {
     "data": {
      "text/plain": [
       "0.6829268292682927"
      ]
     },
     "execution_count": 5,
     "metadata": {},
     "output_type": "execute_result"
    }
   ],
   "source": [
    "# Multiple the probability of spam email containing password with the probability of getting spam email\n",
    "# Then divide it by the probability of password even appearing in either email\n",
    "p_spam_given_password = (p_password_given_spam * spam) / p_password\n",
    "p_spam_given_password"
   ]
  },
  {
   "cell_type": "code",
   "execution_count": 6,
   "metadata": {},
   "outputs": [
    {
     "name": "stdout",
     "output_type": "stream",
     "text": [
      "Send\n",
      "Word: Send\n",
      "Probability in spam: 0.7636363636363637\n",
      " Probability in ham: 0.23636363636363633\n",
      "us\n",
      "Word: us\n",
      "Probability in spam: 0.7636363636363637\n",
      " Probability in ham: 0.23636363636363633\n",
      "your\n",
      "Word: your\n",
      "Probability in spam: 0.6176470588235294\n",
      " Probability in ham: 0.38235294117647056\n",
      "password\n",
      "Word: password\n",
      "Probability in spam: 0.6829268292682927\n",
      " Probability in ham: 0.3170731707317073\n",
      "review\n",
      "Word: review\n",
      "Probability in spam: 0.35000000000000003\n",
      " Probability in ham: 0.65\n",
      "account\n",
      "Word: account\n",
      "Probability in spam: 1.0\n",
      " Probability in ham: 0.0\n"
     ]
    }
   ],
   "source": [
    "# Activity\n",
    "ls1 = []\n",
    "ls2 = []\n",
    "\n",
    "for word in spam_histogram.keys():\n",
    "    print(word)\n",
    "    p_word_given_spam = spam_histogram[word] / sum(spam_histogram.values())\n",
    "    p_word_given_ham =  0 if word not in ham_histogram else ham_histogram[word] / sum(ham_histogram.values())\n",
    "\n",
    "    p_word_in_email = (p_word_given_spam * spam) + (p_word_given_ham * ham)\n",
    "\n",
    "    p_word_is_in_spam = (p_word_given_spam * spam) / p_word_in_email\n",
    "    p_word_is_in_ham = (p_word_given_ham * ham) / p_word_in_email\n",
    "\n",
    "    print('Word: {}\\nProbability in spam: {}\\n Probability in ham: {}'. format(word, p_word_is_in_spam, p_word_is_in_ham))"
   ]
  },
  {
   "cell_type": "code",
   "execution_count": null,
   "metadata": {},
   "outputs": [],
   "source": []
  }
 ],
 "metadata": {
  "kernelspec": {
   "display_name": "Python 3",
   "language": "python",
   "name": "python3"
  },
  "language_info": {
   "codemirror_mode": {
    "name": "ipython",
    "version": 3
   },
   "file_extension": ".py",
   "mimetype": "text/x-python",
   "name": "python",
   "nbconvert_exporter": "python",
   "pygments_lexer": "ipython3",
   "version": "3.7.4"
  }
 },
 "nbformat": 4,
 "nbformat_minor": 4
}
